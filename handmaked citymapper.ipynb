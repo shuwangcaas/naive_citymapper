{
 "cells": [
  {
   "cell_type": "code",
   "execution_count": 1,
   "metadata": {
    "collapsed": true
   },
   "outputs": [],
   "source": [
    "#We want to search the shortest tube path from kcl to ucl"
   ]
  },
  {
   "cell_type": "code",
   "execution_count": 2,
   "metadata": {
    "collapsed": true
   },
   "outputs": [],
   "source": [
    "#packages we need\n",
    "import geopandas as gpd\n",
    "%matplotlib inline  \n",
    "from shapely.geometry import Point\n",
    "import numpy as np\n",
    "import pandas as pd\n",
    "import networkx as nx\n",
    "from geopy.distance import distance\n",
    "from geopy.geocoders import Nominatim"
   ]
  },
  {
   "cell_type": "code",
   "execution_count": 3,
   "metadata": {
    "collapsed": true
   },
   "outputs": [],
   "source": [
    "#london geographic dataset we need\n",
    "london = gpd.read_file(\"data/London_Ward.shp\")"
   ]
  },
  {
   "cell_type": "code",
   "execution_count": 4,
   "metadata": {
    "collapsed": false
   },
   "outputs": [],
   "source": [
    "#tube geographic data we need\n",
    "station=pd.read_csv('station.csv')\n",
    "station=station.drop_duplicates(subset='Name')\n",
    "\n",
    "# Read in the full zone 1 csv\n",
    "zone1=pd.read_csv('zone1.csv')\n",
    "#Read it into a network\n",
    "tubeZone1=nx.from_pandas_dataframe(zone1,'station_name1','station_name2', create_using=nx.Graph())"
   ]
  },
  {
   "cell_type": "code",
   "execution_count": 5,
   "metadata": {
    "collapsed": false
   },
   "outputs": [],
   "source": [
    "#match network data with location data\n",
    "#read station names seperately\n",
    "df1=zone1['station_name1']\n",
    "df2=zone1['station_name2']\n",
    "\n",
    "#concat two columns into one\n",
    "df3=pd.concat([df1,df2], axis=0)\n",
    "\n",
    "#choose the unique names\n",
    "df4=df3.unique()\n",
    "\n",
    "#turn it into dataframe format\n",
    "data = {'Name':df4}\n",
    "frame = pd.DataFrame(data)\n",
    "\n",
    "#change the station's name from Edgware Road (B) to Edgware Road (Bakerloo Line)\n",
    "frame['Name'][2]='Edgware Road (Bakerloo Line)'"
   ]
  },
  {
   "cell_type": "code",
   "execution_count": 6,
   "metadata": {
    "collapsed": false
   },
   "outputs": [
    {
     "data": {
      "text/html": [
       "<div>\n",
       "<table border=\"1\" class=\"dataframe\">\n",
       "  <thead>\n",
       "    <tr style=\"text-align: right;\">\n",
       "      <th></th>\n",
       "      <th>Name</th>\n",
       "    </tr>\n",
       "  </thead>\n",
       "  <tbody>\n",
       "    <tr>\n",
       "      <th>0</th>\n",
       "      <td>Baker Street</td>\n",
       "    </tr>\n",
       "    <tr>\n",
       "      <th>1</th>\n",
       "      <td>Charing Cross</td>\n",
       "    </tr>\n",
       "    <tr>\n",
       "      <th>2</th>\n",
       "      <td>Edgware Road (Bakerloo Line)</td>\n",
       "    </tr>\n",
       "    <tr>\n",
       "      <th>3</th>\n",
       "      <td>Embankment</td>\n",
       "    </tr>\n",
       "    <tr>\n",
       "      <th>4</th>\n",
       "      <td>Lambeth North</td>\n",
       "    </tr>\n",
       "  </tbody>\n",
       "</table>\n",
       "</div>"
      ],
      "text/plain": [
       "                           Name\n",
       "0                  Baker Street\n",
       "1                 Charing Cross\n",
       "2  Edgware Road (Bakerloo Line)\n",
       "3                    Embankment\n",
       "4                 Lambeth North"
      ]
     },
     "execution_count": 6,
     "metadata": {},
     "output_type": "execute_result"
    }
   ],
   "source": [
    "frame.head()"
   ]
  },
  {
   "cell_type": "code",
   "execution_count": 7,
   "metadata": {
    "collapsed": false
   },
   "outputs": [],
   "source": [
    "#merge location data with network data on common column 'name'\n",
    "frame1=pd.merge(frame, station, on='Name')"
   ]
  },
  {
   "cell_type": "code",
   "execution_count": 58,
   "metadata": {
    "collapsed": false
   },
   "outputs": [
    {
     "name": "stdout",
     "output_type": "stream",
     "text": [
      "WC2R 2LS, United Kingdom\n"
     ]
    }
   ],
   "source": [
    "#kcl geographic data\n",
    "geolocator = Nominatim()\n",
    "location = geolocator.geocode(\"WC2R 2LS\")\n",
    "print location"
   ]
  },
  {
   "cell_type": "code",
   "execution_count": 59,
   "metadata": {
    "collapsed": true
   },
   "outputs": [],
   "source": [
    "kcl_coords=(location.longitude, location.latitude)\n",
    "kings_loc = gpd.GeoDataFrame([{\"name\": \"KCL\",\"geometry\": Point(kcl_coords)}],crs={'init' :'epsg:4326'})\n",
    "kings_loc = kings_loc.to_crs(london.crs)"
   ]
  },
  {
   "cell_type": "code",
   "execution_count": 60,
   "metadata": {
    "collapsed": true
   },
   "outputs": [],
   "source": [
    "#the buffer we use is to limit the area of searching the stations within 500 meters.\n",
    "kings_buffer = kings_loc.copy() # copy the GeoDataFrame\n",
    "# create a buffer of 500 meters to convert the POINTs to POLYGONs \n",
    "#   in the 'geometry' column\n",
    "kings_buffer['geometry'] = kings_buffer.buffer(500)"
   ]
  },
  {
   "cell_type": "code",
   "execution_count": 61,
   "metadata": {
    "collapsed": true
   },
   "outputs": [],
   "source": [
    "#get the individual column from location-network dataset (frame1), and turn it into geodataframe\n",
    "name=[frame1['Name'][i] for i in range(len(frame1))]\n",
    "lon=[float(frame1['Longitude'][i]) for i in range(len(frame1))]\n",
    "lat=[float(frame1['Latitude'][i]) for i in range(len(frame1))]\n",
    "point2=[Point(lon[i],lat[i]) for i in range(len(lat))]\n",
    "frame2 = gpd.GeoDataFrame({\"name\": name,\"geometry\":point2},crs={'init' :'epsg:4326'})\n",
    "#change the crs into london crs\n",
    "frame2 = frame2.to_crs(london.crs)"
   ]
  },
  {
   "cell_type": "code",
   "execution_count": 62,
   "metadata": {
    "collapsed": true
   },
   "outputs": [],
   "source": [
    "#intersect to find common field\n",
    "stations_near_kings = gpd.sjoin(frame2, kings_buffer, how=\"inner\",op='intersects')"
   ]
  },
  {
   "cell_type": "code",
   "execution_count": 63,
   "metadata": {
    "collapsed": false
   },
   "outputs": [
    {
     "data": {
      "text/html": [
       "<div>\n",
       "<table border=\"1\" class=\"dataframe\">\n",
       "  <thead>\n",
       "    <tr style=\"text-align: right;\">\n",
       "      <th></th>\n",
       "      <th>geometry</th>\n",
       "      <th>name_left</th>\n",
       "      <th>index_right</th>\n",
       "      <th>name_right</th>\n",
       "    </tr>\n",
       "  </thead>\n",
       "  <tbody>\n",
       "    <tr>\n",
       "      <th>8</th>\n",
       "      <td>POINT (531152.7220491403 181628.569548202)</td>\n",
       "      <td>Chancery Lane</td>\n",
       "      <td>0</td>\n",
       "      <td>KCL</td>\n",
       "    </tr>\n",
       "    <tr>\n",
       "      <th>50</th>\n",
       "      <td>POINT (531016.6251926103 180821.6366513587)</td>\n",
       "      <td>Temple</td>\n",
       "      <td>0</td>\n",
       "      <td>KCL</td>\n",
       "    </tr>\n",
       "  </tbody>\n",
       "</table>\n",
       "</div>"
      ],
      "text/plain": [
       "                                       geometry      name_left  index_right  \\\n",
       "8    POINT (531152.7220491403 181628.569548202)  Chancery Lane            0   \n",
       "50  POINT (531016.6251926103 180821.6366513587)         Temple            0   \n",
       "\n",
       "   name_right  \n",
       "8         KCL  \n",
       "50        KCL  "
      ]
     },
     "execution_count": 63,
     "metadata": {},
     "output_type": "execute_result"
    }
   ],
   "source": [
    "stations_near_kings"
   ]
  },
  {
   "cell_type": "code",
   "execution_count": 64,
   "metadata": {
    "collapsed": false
   },
   "outputs": [
    {
     "data": {
      "text/html": [
       "<div>\n",
       "<table border=\"1\" class=\"dataframe\">\n",
       "  <thead>\n",
       "    <tr style=\"text-align: right;\">\n",
       "      <th></th>\n",
       "      <th>Name</th>\n",
       "    </tr>\n",
       "  </thead>\n",
       "  <tbody>\n",
       "    <tr>\n",
       "      <th>8</th>\n",
       "      <td>Chancery Lane</td>\n",
       "    </tr>\n",
       "    <tr>\n",
       "      <th>50</th>\n",
       "      <td>Temple</td>\n",
       "    </tr>\n",
       "  </tbody>\n",
       "</table>\n",
       "</div>"
      ],
      "text/plain": [
       "             Name\n",
       "8   Chancery Lane\n",
       "50         Temple"
      ]
     },
     "execution_count": 64,
     "metadata": {},
     "output_type": "execute_result"
    }
   ],
   "source": [
    "station_names_kings=stations_near_kings[['name_left']]\n",
    "station_names_kings.columns=['Name']\n",
    "station_names_kings"
   ]
  },
  {
   "cell_type": "code",
   "execution_count": 65,
   "metadata": {
    "collapsed": true
   },
   "outputs": [],
   "source": [
    "#we get the station names closed to kings, now we combine the frame1 \n",
    "#(the dataframe contains all the stations geographic informarion) with she station names closed with kings\n",
    "newframe=pd.merge(station_names_kings, frame1, on='Name')"
   ]
  },
  {
   "cell_type": "code",
   "execution_count": 66,
   "metadata": {
    "collapsed": true
   },
   "outputs": [],
   "source": [
    "# we add a new column distance which can be used to store the distance between kings with each station\n",
    "distance_data=[]\n",
    "for i in range(len(newframe)):\n",
    "    distance_data.append(round(distance((float(newframe.loc[i]['Longitude']),\n",
    "                                         float(newframe.loc[i]['Latitude'])),kcl_coords).km,4))\n",
    "newframe['distance']=distance_data"
   ]
  },
  {
   "cell_type": "code",
   "execution_count": 67,
   "metadata": {
    "collapsed": false
   },
   "outputs": [
    {
     "name": "stdout",
     "output_type": "stream",
     "text": [
      "Temple\n"
     ]
    }
   ],
   "source": [
    "#we choose the closest station\n",
    "chosen_station=newframe.loc[newframe['distance'].idxmin()]\n",
    "kcl_chosen_station=chosen_station['Name']\n",
    "print kcl_chosen_station"
   ]
  },
  {
   "cell_type": "code",
   "execution_count": 68,
   "metadata": {
    "collapsed": false
   },
   "outputs": [
    {
     "name": "stdout",
     "output_type": "stream",
     "text": [
      "WC1E 6BT, United Kingdom\n"
     ]
    }
   ],
   "source": [
    "geolocator = Nominatim()\n",
    "location = geolocator.geocode(\"WC1E 6BT\")\n",
    "print location"
   ]
  },
  {
   "cell_type": "code",
   "execution_count": 69,
   "metadata": {
    "collapsed": false
   },
   "outputs": [
    {
     "name": "stdout",
     "output_type": "stream",
     "text": [
      "Euston Square\n"
     ]
    }
   ],
   "source": [
    "ucl_coords=(location.longitude, location.latitude)\n",
    "ucl_loc = gpd.GeoDataFrame([{\"name\": \"ucl\", \n",
    "                               \"geometry\": Point(ucl_coords)}],\n",
    "                             crs={'init' :'epsg:4326'})\n",
    "ucl_loc = ucl_loc.to_crs(london.crs)\n",
    "ucl_buffer = ucl_loc.copy() \n",
    "ucl_buffer['geometry'] = ucl_buffer.buffer(500)\n",
    "try:\n",
    "    stations_near_ucl = gpd.sjoin(frame2, ucl_buffer, how=\"inner\",op='intersects')\n",
    "    \n",
    "except ValueError:\n",
    "    print \"There is not station within 500 meters' distance\"\n",
    "\n",
    "station_names_ucl=stations_near_ucl[['name_left']]\n",
    "station_names_ucl.columns=['Name']\n",
    "newframe=pd.merge(station_names_ucl, frame1, on='Name')\n",
    "distance_data=[]\n",
    "for i in range(len(newframe)):\n",
    "    distance_data.append(round(distance((float(newframe.loc[i]['Longitude']),\n",
    "                                         float(newframe.loc[i]['Latitude'])),ucl_coords).km,4))\n",
    "newframe['distance']=distance_data\n",
    "chosen_station=newframe.loc[newframe['distance'].idxmin()]\n",
    "ucl_chosen_station=chosen_station['Name']\n",
    "print ucl_chosen_station"
   ]
  },
  {
   "cell_type": "code",
   "execution_count": 70,
   "metadata": {
    "collapsed": false
   },
   "outputs": [
    {
     "data": {
      "text/plain": [
       "['Temple',\n",
       " 'Embankment',\n",
       " 'Westminster',\n",
       " 'Green Park',\n",
       " 'Bond Street',\n",
       " 'Baker Street',\n",
       " 'Great Portland Street',\n",
       " 'Euston Square']"
      ]
     },
     "execution_count": 70,
     "metadata": {},
     "output_type": "execute_result"
    }
   ],
   "source": [
    "#Find the shortest route from liverpool street to Bond street\n",
    "nx.shortest_path(tubeZone1,kcl_chosen_station,ucl_chosen_station)"
   ]
  },
  {
   "cell_type": "code",
   "execution_count": 82,
   "metadata": {
    "collapsed": false
   },
   "outputs": [],
   "source": [
    "def starting_point(place_name):\n",
    "    geolocator = Nominatim()\n",
    "    location = geolocator.geocode(str(place_name))\n",
    "    ucl_coords=(location.longitude, location.latitude)\n",
    "    ucl_loc = gpd.GeoDataFrame([{\"name\": \"ucl\",\"geometry\": Point(ucl_coords)}],crs={'init' :'epsg:4326'})\n",
    "    ucl_loc = ucl_loc.to_crs(london.crs)\n",
    "    ucl_buffer = ucl_loc.copy() \n",
    "    ucl_buffer['geometry'] = ucl_buffer.buffer(500)\n",
    "    try:\n",
    "        stations_near_ucl = gpd.sjoin(frame2, ucl_buffer, how=\"inner\",op='intersects')\n",
    "    \n",
    "    except ValueError:\n",
    "        print \"There is not station within 500 meters' distance\"\n",
    "\n",
    "    station_names_ucl=stations_near_ucl[['name_left']]\n",
    "    station_names_ucl.columns=['Name']\n",
    "    newframe=pd.merge(station_names_ucl, frame1, on='Name')\n",
    "    distance_data=[]\n",
    "    for i in range(len(newframe)):\n",
    "        distance_data.append(round(distance((float(newframe.loc[i]['Longitude']),\n",
    "                                         float(newframe.loc[i]['Latitude'])),ucl_coords).km,4))\n",
    "    newframe['distance']=distance_data\n",
    "    chosen_station=newframe.loc[newframe['distance'].idxmin()]\n",
    "    starting_station=chosen_station['Name']\n",
    "    return starting_station"
   ]
  },
  {
   "cell_type": "code",
   "execution_count": 83,
   "metadata": {
    "collapsed": true
   },
   "outputs": [],
   "source": [
    "def destination(place_name):\n",
    "    geolocator = Nominatim()\n",
    "    location = geolocator.geocode(str(place_name))\n",
    "    ucl_coords=(location.longitude, location.latitude)\n",
    "    ucl_loc = gpd.GeoDataFrame([{\"name\": \"ucl\",\"geometry\": Point(ucl_coords)}],crs={'init' :'epsg:4326'})\n",
    "    ucl_loc = ucl_loc.to_crs(london.crs)\n",
    "    ucl_buffer = ucl_loc.copy() \n",
    "    ucl_buffer['geometry'] = ucl_buffer.buffer(500)\n",
    "    try:\n",
    "        stations_near_ucl = gpd.sjoin(frame2, ucl_buffer, how=\"inner\",op='intersects')\n",
    "    \n",
    "    except ValueError:\n",
    "        print \"There is not station within 500 meters' distance\"\n",
    "\n",
    "    station_names_ucl=stations_near_ucl[['name_left']]\n",
    "    station_names_ucl.columns=['Name']\n",
    "    newframe=pd.merge(station_names_ucl, frame1, on='Name')\n",
    "    distance_data=[]\n",
    "    for i in range(len(newframe)):\n",
    "        distance_data.append(round(distance((float(newframe.loc[i]['Longitude']),\n",
    "                                         float(newframe.loc[i]['Latitude'])),ucl_coords).km,4))\n",
    "    newframe['distance']=distance_data\n",
    "    chosen_station=newframe.loc[newframe['distance'].idxmin()]\n",
    "    destination_station=chosen_station['Name']\n",
    "    return destination_station"
   ]
  },
  {
   "cell_type": "code",
   "execution_count": 84,
   "metadata": {
    "collapsed": false
   },
   "outputs": [
    {
     "data": {
      "text/plain": [
       "'Temple'"
      ]
     },
     "execution_count": 84,
     "metadata": {},
     "output_type": "execute_result"
    }
   ],
   "source": [
    "starting_point('WC2R 2LS')"
   ]
  },
  {
   "cell_type": "code",
   "execution_count": 85,
   "metadata": {
    "collapsed": false
   },
   "outputs": [
    {
     "data": {
      "text/plain": [
       "'Euston Square'"
      ]
     },
     "execution_count": 85,
     "metadata": {},
     "output_type": "execute_result"
    }
   ],
   "source": [
    "destination('WC1E 6BT')"
   ]
  },
  {
   "cell_type": "code",
   "execution_count": 86,
   "metadata": {
    "collapsed": false
   },
   "outputs": [
    {
     "data": {
      "text/plain": [
       "['Temple',\n",
       " 'Embankment',\n",
       " 'Westminster',\n",
       " 'Green Park',\n",
       " 'Bond Street',\n",
       " 'Baker Street',\n",
       " 'Great Portland Street',\n",
       " 'Euston Square']"
      ]
     },
     "execution_count": 86,
     "metadata": {},
     "output_type": "execute_result"
    }
   ],
   "source": [
    "nx.shortest_path(tubeZone1,starting_point('WC2R 2LS'),destination('WC1E 6BT'))"
   ]
  },
  {
   "cell_type": "code",
   "execution_count": null,
   "metadata": {
    "collapsed": true
   },
   "outputs": [],
   "source": [
    "# Read in the full zone 1 csv\n",
    "zone1=pd.read_csv('zone1.csv')\n",
    "#Read it into a network\n",
    "tubeZone1=nx.from_pandas_dataframe(zone1,'station_name1','station_name2', create_using=nx.Graph())"
   ]
  },
  {
   "cell_type": "code",
   "execution_count": 12,
   "metadata": {
    "collapsed": false
   },
   "outputs": [],
   "source": [
    "def naive_citymapper(starting_name,destination_name):\n",
    "    import geopandas as gpd\n",
    "    %matplotlib inline  \n",
    "    from shapely.geometry import Point\n",
    "    import numpy as np\n",
    "    import pandas as pd\n",
    "    import networkx as nx\n",
    "    from geopy.distance import distance\n",
    "    from geopy.geocoders import Nominatim\n",
    "\n",
    "    zone1=pd.read_csv('zone1.csv')\n",
    "    tubeZone1=nx.from_pandas_dataframe(zone1,'station_name1','station_name2', create_using=nx.Graph())\n",
    "    df1=zone1['station_name1']\n",
    "    df2=zone1['station_name2']\n",
    "    df3=pd.concat([df1,df2], axis=0)\n",
    "    df4=df3.unique()\n",
    "    data = {'Name':df4}\n",
    "    frame = pd.DataFrame(data)\n",
    "    frame['Name'][2]='Edgware Road (Bakerloo Line)'\n",
    "    frame1=pd.merge(frame, station, on='Name')\n",
    "    name=[frame1['Name'][i] for i in range(len(frame1))]\n",
    "    lon=[float(frame1['Longitude'][i]) for i in range(len(frame1))]\n",
    "    lat=[float(frame1['Latitude'][i]) for i in range(len(frame1))]\n",
    "    point2=[Point(lon[i],lat[i]) for i in range(len(lat))]\n",
    "    frame2 = gpd.GeoDataFrame({\"name\": name,\"geometry\":point2},crs={'init' :'epsg:4326'})\n",
    "    frame2 = frame2.to_crs(london.crs)\n",
    "\n",
    "    def starting_point(starting_name):\n",
    "        geolocator = Nominatim()\n",
    "        location = geolocator.geocode(str(starting_name))\n",
    "        ucl_coords=(location.longitude, location.latitude)\n",
    "        ucl_loc = gpd.GeoDataFrame([{\"name\": \"ucl\",\"geometry\": Point(ucl_coords)}],crs={'init' :'epsg:4326'})\n",
    "        ucl_loc = ucl_loc.to_crs(london.crs)\n",
    "        ucl_buffer = ucl_loc.copy() \n",
    "        ucl_buffer['geometry'] = ucl_buffer.buffer(500)\n",
    "        try:\n",
    "            stations_near_ucl = gpd.sjoin(frame2, ucl_buffer, how=\"inner\",op='intersects')\n",
    "    \n",
    "        except ValueError:\n",
    "            print \"There is not station within 500 meters' distance\"\n",
    "\n",
    "        station_names_ucl=stations_near_ucl[['name_left']]\n",
    "        station_names_ucl.columns=['Name']\n",
    "        newframe=pd.merge(station_names_ucl, frame1, on='Name')\n",
    "        distance_data=[]\n",
    "        for i in range(len(newframe)):\n",
    "            distance_data.append(round(distance((float(newframe.loc[i]['Longitude']),\n",
    "                                         float(newframe.loc[i]['Latitude'])),ucl_coords).km,4))\n",
    "        newframe['distance']=distance_data\n",
    "        chosen_station=newframe.loc[newframe['distance'].idxmin()]\n",
    "        starting_station=chosen_station['Name']\n",
    "        #distance between starting point to station\n",
    "        global distance1\n",
    "        distance1=round(newframe.loc[newframe['distance'].idxmin()]['distance'],2)\n",
    "        return starting_station# Creates tuple automatically\n",
    "\n",
    "\n",
    "\n",
    "    def destination(destination_name):\n",
    "        geolocator = Nominatim()\n",
    "        location = geolocator.geocode(str(destination_name))\n",
    "        ucl_coords=(location.longitude, location.latitude)\n",
    "        ucl_loc = gpd.GeoDataFrame([{\"name\": \"ucl\",\"geometry\": Point(ucl_coords)}],crs={'init' :'epsg:4326'})\n",
    "        ucl_loc = ucl_loc.to_crs(london.crs)\n",
    "        ucl_buffer = ucl_loc.copy() \n",
    "        ucl_buffer['geometry'] = ucl_buffer.buffer(500)\n",
    "        try:\n",
    "            stations_near_ucl = gpd.sjoin(frame2, ucl_buffer, how=\"inner\",op='intersects')\n",
    "    \n",
    "        except ValueError:\n",
    "            print \"There is not station within 500 meters' distance\"\n",
    "\n",
    "        station_names_ucl=stations_near_ucl[['name_left']]\n",
    "        station_names_ucl.columns=['Name']\n",
    "        newframe=pd.merge(station_names_ucl, frame1, on='Name')\n",
    "        distance_data=[]\n",
    "        for i in range(len(newframe)):\n",
    "            distance_data.append(round(distance((float(newframe.loc[i]['Longitude']),\n",
    "                                         float(newframe.loc[i]['Latitude'])),ucl_coords).km,4))\n",
    "        newframe['distance']=distance_data\n",
    "        chosen_station=newframe.loc[newframe['distance'].idxmin()]\n",
    "        destination_station=chosen_station['Name']\n",
    "        #distance between destination to station\n",
    "        global distance2\n",
    "        distance2=round(newframe.loc[newframe['distance'].idxmin()]['distance'],2)\n",
    "        return destination_station\n",
    "         \n",
    "\n",
    "    shortest_path=nx.shortest_path(tubeZone1,starting_point(starting_name),destination(destination_name))\n",
    "    arrow=[]\n",
    "    for i in shortest_path:\n",
    "        if i != shortest_path[-1]:\n",
    "            arrow.append(i+'-->')\n",
    "        else:\n",
    "            arrow.append(i)\n",
    "    \n",
    "    path_result=''.join(arrow)\n",
    "    print 'From %s to %s.\\nFirst, walk %skm to %s station.\\nPass through %s stations, terminated at %s station.\\\n",
    "    \\nAnd then walk %skm to destination. \\nThe tube path is \\n%s'%(starting_name,destination_name,distance1,\n",
    "                                                              shortest_path[0],len(shortest_path)-1,\n",
    "                                                              shortest_path[-1],distance2,path_result)   \n"
   ]
  },
  {
   "cell_type": "code",
   "execution_count": 13,
   "metadata": {
    "collapsed": false
   },
   "outputs": [
    {
     "name": "stdout",
     "output_type": "stream",
     "text": [
      "From WC2R 2LS to WC1E 6BT.\n",
      "First, walk 0.27km to Temple station.\n",
      "Pass through 7 stations, terminated at Euston Square station.    \n",
      "And then walk 0.17km to destination. \n",
      "The tube path is \n",
      "Temple-->Embankment-->Westminster-->Green Park-->Bond Street-->Baker Street-->Great Portland Street-->Euston Square\n"
     ]
    }
   ],
   "source": [
    "naive_citymapper('WC2R 2LS','WC1E 6BT')"
   ]
  }
 ],
 "metadata": {
  "kernelspec": {
   "display_name": "Python 2",
   "language": "python",
   "name": "python2"
  },
  "language_info": {
   "codemirror_mode": {
    "name": "ipython",
    "version": 2
   },
   "file_extension": ".py",
   "mimetype": "text/x-python",
   "name": "python",
   "nbconvert_exporter": "python",
   "pygments_lexer": "ipython2",
   "version": "2.7.13"
  }
 },
 "nbformat": 4,
 "nbformat_minor": 2
}
