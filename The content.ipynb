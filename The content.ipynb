{
 "cells": [
  {
   "cell_type": "code",
   "execution_count": 1,
   "metadata": {
    "collapsed": true
   },
   "outputs": [],
   "source": [
    "#packages we need\n",
    "import geopandas as gpd\n",
    "%matplotlib inline  \n",
    "from shapely.geometry import Point\n",
    "import numpy as np\n",
    "import pandas as pd\n",
    "import networkx as nx\n",
    "from geopy.distance import distance\n",
    "from geopy.geocoders import Nominatim"
   ]
  },
  {
   "cell_type": "code",
   "execution_count": 2,
   "metadata": {
    "collapsed": true
   },
   "outputs": [],
   "source": [
    "#london geographic dataset we need\n",
    "london = gpd.read_file(\"data/London_Ward.shp\")"
   ]
  },
  {
   "cell_type": "code",
   "execution_count": 3,
   "metadata": {
    "collapsed": true
   },
   "outputs": [],
   "source": [
    "#tube geographic data we need\n",
    "station=pd.read_csv('station.csv')\n",
    "station=station.drop_duplicates(subset='Name')\n",
    "\n",
    "# Read in the full zone 1 csv\n",
    "zone1=pd.read_csv('zone1.csv')\n",
    "#Read it into a network\n",
    "tubeZone1=nx.from_pandas_dataframe(zone1,'station_name1','station_name2', create_using=nx.Graph())"
   ]
  },
  {
   "cell_type": "code",
   "execution_count": 4,
   "metadata": {
    "collapsed": true
   },
   "outputs": [],
   "source": [
    "#match network data with location data\n",
    "#read station names seperately\n",
    "df1=zone1['station_name1']\n",
    "df2=zone1['station_name2']\n",
    "\n",
    "#concat two columns into one\n",
    "df3=pd.concat([df1,df2], axis=0)\n",
    "\n",
    "#choose the unique names\n",
    "df4=df3.unique()\n",
    "\n",
    "#turn it into dataframe format\n",
    "data = {'Name':df4}\n",
    "frame = pd.DataFrame(data)\n",
    "\n",
    "#change the station's name from Edgware Road (B) to Edgware Road (Bakerloo Line)\n",
    "frame['Name'][2]='Edgware Road (Bakerloo Line)'"
   ]
  },
  {
   "cell_type": "code",
   "execution_count": 5,
   "metadata": {
    "collapsed": false
   },
   "outputs": [
    {
     "data": {
      "text/html": [
       "<div>\n",
       "<table border=\"1\" class=\"dataframe\">\n",
       "  <thead>\n",
       "    <tr style=\"text-align: right;\">\n",
       "      <th></th>\n",
       "      <th>Name</th>\n",
       "    </tr>\n",
       "  </thead>\n",
       "  <tbody>\n",
       "    <tr>\n",
       "      <th>0</th>\n",
       "      <td>Baker Street</td>\n",
       "    </tr>\n",
       "    <tr>\n",
       "      <th>1</th>\n",
       "      <td>Charing Cross</td>\n",
       "    </tr>\n",
       "    <tr>\n",
       "      <th>2</th>\n",
       "      <td>Edgware Road (Bakerloo Line)</td>\n",
       "    </tr>\n",
       "    <tr>\n",
       "      <th>3</th>\n",
       "      <td>Embankment</td>\n",
       "    </tr>\n",
       "    <tr>\n",
       "      <th>4</th>\n",
       "      <td>Lambeth North</td>\n",
       "    </tr>\n",
       "  </tbody>\n",
       "</table>\n",
       "</div>"
      ],
      "text/plain": [
       "                           Name\n",
       "0                  Baker Street\n",
       "1                 Charing Cross\n",
       "2  Edgware Road (Bakerloo Line)\n",
       "3                    Embankment\n",
       "4                 Lambeth North"
      ]
     },
     "execution_count": 5,
     "metadata": {},
     "output_type": "execute_result"
    }
   ],
   "source": [
    "frame.head()"
   ]
  },
  {
   "cell_type": "code",
   "execution_count": 6,
   "metadata": {
    "collapsed": true
   },
   "outputs": [],
   "source": [
    "#merge location data with network data on common column 'name'\n",
    "frame1=pd.merge(frame, station, on='Name')"
   ]
  },
  {
   "cell_type": "code",
   "execution_count": 7,
   "metadata": {
    "collapsed": false
   },
   "outputs": [
    {
     "name": "stdout",
     "output_type": "stream",
     "text": [
      "WC2R 2LS, United Kingdom\n"
     ]
    }
   ],
   "source": [
    "#kcl geographic data\n",
    "geolocator = Nominatim()\n",
    "location = geolocator.geocode(\"WC2R 2LS\")\n",
    "print location"
   ]
  },
  {
   "cell_type": "code",
   "execution_count": 8,
   "metadata": {
    "collapsed": true
   },
   "outputs": [],
   "source": [
    "kcl_coords=(location.longitude, location.latitude)\n",
    "kings_loc = gpd.GeoDataFrame([{\"name\": \"KCL\",\"geometry\": Point(kcl_coords)}],crs={'init' :'epsg:4326'})\n",
    "kings_loc = kings_loc.to_crs(london.crs)"
   ]
  },
  {
   "cell_type": "code",
   "execution_count": 9,
   "metadata": {
    "collapsed": true
   },
   "outputs": [],
   "source": [
    "#the buffer we use is to limit the area of searching the stations within 500 meters.\n",
    "kings_buffer = kings_loc.copy() # copy the GeoDataFrame\n",
    "# create a buffer of 500 meters to convert the POINTs to POLYGONs \n",
    "#   in the 'geometry' column\n",
    "kings_buffer['geometry'] = kings_buffer.buffer(500)"
   ]
  },
  {
   "cell_type": "code",
   "execution_count": 10,
   "metadata": {
    "collapsed": true
   },
   "outputs": [],
   "source": [
    "#get the individual column from location-network dataset (frame1), and turn it into geodataframe\n",
    "name=[frame1['Name'][i] for i in range(len(frame1))]\n",
    "lon=[float(frame1['Longitude'][i]) for i in range(len(frame1))]\n",
    "lat=[float(frame1['Latitude'][i]) for i in range(len(frame1))]\n",
    "point2=[Point(lon[i],lat[i]) for i in range(len(lat))]\n",
    "frame2 = gpd.GeoDataFrame({\"name\": name,\"geometry\":point2},crs={'init' :'epsg:4326'})\n",
    "#change the crs into london crs\n",
    "frame2 = frame2.to_crs(london.crs)"
   ]
  },
  {
   "cell_type": "code",
   "execution_count": 11,
   "metadata": {
    "collapsed": true
   },
   "outputs": [],
   "source": [
    "#intersect to find common field\n",
    "stations_near_kings = gpd.sjoin(frame2, kings_buffer, how=\"inner\",op='intersects')"
   ]
  },
  {
   "cell_type": "code",
   "execution_count": 12,
   "metadata": {
    "collapsed": false
   },
   "outputs": [
    {
     "data": {
      "text/html": [
       "<div>\n",
       "<table border=\"1\" class=\"dataframe\">\n",
       "  <thead>\n",
       "    <tr style=\"text-align: right;\">\n",
       "      <th></th>\n",
       "      <th>geometry</th>\n",
       "      <th>name_left</th>\n",
       "      <th>index_right</th>\n",
       "      <th>name_right</th>\n",
       "    </tr>\n",
       "  </thead>\n",
       "  <tbody>\n",
       "    <tr>\n",
       "      <th>50</th>\n",
       "      <td>POINT (531016.6251926103 180821.6366513587)</td>\n",
       "      <td>Temple</td>\n",
       "      <td>0</td>\n",
       "      <td>KCL</td>\n",
       "    </tr>\n",
       "  </tbody>\n",
       "</table>\n",
       "</div>"
      ],
      "text/plain": [
       "                                       geometry name_left  index_right  \\\n",
       "50  POINT (531016.6251926103 180821.6366513587)    Temple            0   \n",
       "\n",
       "   name_right  \n",
       "50        KCL  "
      ]
     },
     "execution_count": 12,
     "metadata": {},
     "output_type": "execute_result"
    }
   ],
   "source": [
    "stations_near_kings"
   ]
  },
  {
   "cell_type": "code",
   "execution_count": 13,
   "metadata": {
    "collapsed": false
   },
   "outputs": [
    {
     "data": {
      "text/html": [
       "<div>\n",
       "<table border=\"1\" class=\"dataframe\">\n",
       "  <thead>\n",
       "    <tr style=\"text-align: right;\">\n",
       "      <th></th>\n",
       "      <th>Name</th>\n",
       "    </tr>\n",
       "  </thead>\n",
       "  <tbody>\n",
       "    <tr>\n",
       "      <th>50</th>\n",
       "      <td>Temple</td>\n",
       "    </tr>\n",
       "  </tbody>\n",
       "</table>\n",
       "</div>"
      ],
      "text/plain": [
       "      Name\n",
       "50  Temple"
      ]
     },
     "execution_count": 13,
     "metadata": {},
     "output_type": "execute_result"
    }
   ],
   "source": [
    "station_names_kings=stations_near_kings[['name_left']]\n",
    "station_names_kings.columns=['Name']\n",
    "station_names_kings"
   ]
  },
  {
   "cell_type": "code",
   "execution_count": 14,
   "metadata": {
    "collapsed": true
   },
   "outputs": [],
   "source": [
    "#we get the station names closed to kings, now we combine the frame1 \n",
    "#(the dataframe contains all the stations geographic informarion) with she station names closed with kings\n",
    "newframe=pd.merge(station_names_kings, frame1, on='Name')"
   ]
  },
  {
   "cell_type": "code",
   "execution_count": 15,
   "metadata": {
    "collapsed": true
   },
   "outputs": [],
   "source": [
    "# we add a new column distance which can be used to store the distance between kings with each station\n",
    "distance_data=[]\n",
    "for i in range(len(newframe)):\n",
    "    distance_data.append(round(distance((float(newframe.loc[i]['Longitude']),\n",
    "                                         float(newframe.loc[i]['Latitude'])),kcl_coords).km,4))\n",
    "newframe['distance']=distance_data"
   ]
  },
  {
   "cell_type": "code",
   "execution_count": 16,
   "metadata": {
    "collapsed": false
   },
   "outputs": [
    {
     "name": "stdout",
     "output_type": "stream",
     "text": [
      "Temple\n"
     ]
    }
   ],
   "source": [
    "#we choose the closest station\n",
    "chosen_station=newframe.loc[newframe['distance'].idxmin()]\n",
    "kcl_chosen_station=chosen_station['Name']\n",
    "print kcl_chosen_station"
   ]
  },
  {
   "cell_type": "code",
   "execution_count": 17,
   "metadata": {
    "collapsed": false
   },
   "outputs": [
    {
     "name": "stdout",
     "output_type": "stream",
     "text": [
      "WC1E 6BT, United Kingdom\n"
     ]
    }
   ],
   "source": [
    "geolocator = Nominatim()\n",
    "location = geolocator.geocode(\"WC1E 6BT\")\n",
    "print location"
   ]
  },
  {
   "cell_type": "code",
   "execution_count": 20,
   "metadata": {
    "collapsed": false
   },
   "outputs": [
    {
     "data": {
      "text/html": [
       "<div>\n",
       "<table border=\"1\" class=\"dataframe\">\n",
       "  <thead>\n",
       "    <tr style=\"text-align: right;\">\n",
       "      <th></th>\n",
       "      <th>Name</th>\n",
       "      <th>Latitude</th>\n",
       "      <th>Longitude</th>\n",
       "      <th>Line</th>\n",
       "      <th>distance</th>\n",
       "    </tr>\n",
       "  </thead>\n",
       "  <tbody>\n",
       "    <tr>\n",
       "      <th>0</th>\n",
       "      <td>Euston Square</td>\n",
       "      <td>51.52584</td>\n",
       "      <td>-0.1357</td>\n",
       "      <td>Circle, Hammersmith &amp; City, Metropolitan</td>\n",
       "      <td>0.1664</td>\n",
       "    </tr>\n",
       "    <tr>\n",
       "      <th>1</th>\n",
       "      <td>Euston</td>\n",
       "      <td>51.52774</td>\n",
       "      <td>-0.13303</td>\n",
       "      <td>Northern</td>\n",
       "      <td>0.3927</td>\n",
       "    </tr>\n",
       "    <tr>\n",
       "      <th>2</th>\n",
       "      <td>Goodge Street</td>\n",
       "      <td>51.5206</td>\n",
       "      <td>-0.13441</td>\n",
       "      <td>Northern</td>\n",
       "      <td>0.4542</td>\n",
       "    </tr>\n",
       "    <tr>\n",
       "      <th>3</th>\n",
       "      <td>Warren Street</td>\n",
       "      <td>51.5245</td>\n",
       "      <td>-0.1381</td>\n",
       "      <td>Northern, Victoria</td>\n",
       "      <td>0.3687</td>\n",
       "    </tr>\n",
       "  </tbody>\n",
       "</table>\n",
       "</div>"
      ],
      "text/plain": [
       "            Name  Latitude Longitude  \\\n",
       "0  Euston Square  51.52584   -0.1357   \n",
       "1         Euston  51.52774  -0.13303   \n",
       "2  Goodge Street   51.5206  -0.13441   \n",
       "3  Warren Street   51.5245   -0.1381   \n",
       "\n",
       "                                       Line  distance  \n",
       "0  Circle, Hammersmith & City, Metropolitan    0.1664  \n",
       "1                                  Northern    0.3927  \n",
       "2                                  Northern    0.4542  \n",
       "3                        Northern, Victoria    0.3687  "
      ]
     },
     "execution_count": 20,
     "metadata": {},
     "output_type": "execute_result"
    }
   ],
   "source": [
    "newframe#ucl"
   ]
  },
  {
   "cell_type": "code",
   "execution_count": 21,
   "metadata": {
    "collapsed": false
   },
   "outputs": [
    {
     "name": "stdout",
     "output_type": "stream",
     "text": [
      "Euston Square\n"
     ]
    }
   ],
   "source": [
    "chosen_station=newframe.loc[newframe['distance'].idxmin()]\n",
    "ucl_chosen_station=chosen_station['Name']\n",
    "print ucl_chosen_station"
   ]
  },
  {
   "cell_type": "markdown",
   "metadata": {},
   "source": [
    "def starting_point(place_name):\n",
    "\n",
    "starting_point('WC2R 2LS')\n",
    "\n",
    "destination('WC1E 6BT')\n",
    "\n",
    "nx.shortest_path(tubeZone1,starting_point('WC2R 2LS'),destination('WC1E 6BT'))"
   ]
  },
  {
   "cell_type": "code",
   "execution_count": 23,
   "metadata": {
    "collapsed": false
   },
   "outputs": [
    {
     "name": "stdout",
     "output_type": "stream",
     "text": [
      "From WC2R 2LS to WC1E 6BT.\n",
      "First, walk 0.27km to Temple station.\n",
      "Pass through 7 stations, terminated at Euston Square station.    \n",
      "And then walk 0.17km to destination. \n",
      "The tube path is \n",
      "Temple-->Embankment-->Westminster-->Green Park-->Bond Street-->Baker Street-->Great Portland Street-->Euston Square\n"
     ]
    }
   ],
   "source": [
    "naive_citymapper('WC2R 2LS','WC1E 6BT')"
   ]
  }
 ],
 "metadata": {
  "kernelspec": {
   "display_name": "Python 2",
   "language": "python",
   "name": "python2"
  },
  "language_info": {
   "codemirror_mode": {
    "name": "ipython",
    "version": 2
   },
   "file_extension": ".py",
   "mimetype": "text/x-python",
   "name": "python",
   "nbconvert_exporter": "python",
   "pygments_lexer": "ipython2",
   "version": "2.7.13"
  }
 },
 "nbformat": 4,
 "nbformat_minor": 2
}
